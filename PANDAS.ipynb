{
 "cells": [
  {
   "cell_type": "markdown",
   "id": "b1705bc7-1c67-4392-ba28-21aca0cd294a",
   "metadata": {},
   "source": [
    "# Pandas \n",
    "- it is python library which provides functionalities  to work with analysing and manupulating of the data\n",
    "- pandas is open source built on top of numpy\n",
    "- popular for analysing the data in easier way"
   ]
  },
  {
   "cell_type": "markdown",
   "id": "d08fecf4-5718-4d14-b8e5-855fb0fe9f15",
   "metadata": {},
   "source": [
    "# why pandas \n",
    "1. the data sent to machine learning model that will be in rows and column format i.e\n",
    "in table format\n",
    "2. pandas provide us functionalities in order to analyse rows and columns of data\n",
    "3. helps us in performing the statitical analysis on the data\n",
    "4. it can analyse huge data.\n",
    "5. helps us in cleaning the data"
   ]
  },
  {
   "cell_type": "markdown",
   "id": "a91302d7-c864-4170-952b-0ba26c463537",
   "metadata": {},
   "source": [
    "### what pandas can create\n",
    "1. Series\n",
    "2. Dataframe"
   ]
  },
  {
   "cell_type": "code",
   "execution_count": 2,
   "id": "5ad0a792-0ac3-42c7-8754-db134541e780",
   "metadata": {},
   "outputs": [],
   "source": [
    "# one dimensional data structure in form of row     -  Array\n",
    "# one dimensional data structure in form of column  -  Series"
   ]
  },
  {
   "cell_type": "markdown",
   "id": "cc8a1fce-f740-4dca-a0b8-c3489f645aa7",
   "metadata": {},
   "source": [
    "# Series\n",
    "\n",
    "Series is 1D array holding data of any dtype ,in the column format\n",
    "Series in pandas like column in table"
   ]
  },
  {
   "cell_type": "code",
   "execution_count": 4,
   "id": "222deaa1-f2c1-4c7c-8ede-a71eda25c526",
   "metadata": {},
   "outputs": [],
   "source": [
    "import numpy as np\n",
    "import pandas as pd"
   ]
  },
  {
   "cell_type": "code",
   "execution_count": 5,
   "id": "bca5bc2a-6f61-4975-983e-a31e058b9402",
   "metadata": {},
   "outputs": [
    {
     "name": "stdout",
     "output_type": "stream",
     "text": [
      "Series([], dtype: object)\n"
     ]
    }
   ],
   "source": [
    "s = pd.Series()\n",
    "print(s)"
   ]
  },
  {
   "cell_type": "code",
   "execution_count": 9,
   "id": "69e9334b-4929-43a9-b1e3-20a6829fa08d",
   "metadata": {},
   "outputs": [
    {
     "name": "stdout",
     "output_type": "stream",
     "text": [
      "0    a\n",
      "1    b\n",
      "2    c\n",
      "dtype: object\n"
     ]
    },
    {
     "data": {
      "text/plain": [
       "dtype('O')"
      ]
     },
     "execution_count": 9,
     "metadata": {},
     "output_type": "execute_result"
    }
   ],
   "source": [
    "s1 = pd.Series(['a', 'b' ,'c'])\n",
    "print(s1)"
   ]
  },
  {
   "cell_type": "code",
   "execution_count": 12,
   "id": "6e48ad6b-b8d5-4da0-8ae8-b1679b03ba65",
   "metadata": {},
   "outputs": [
    {
     "data": {
      "text/plain": [
       "0    1\n",
       "1    2\n",
       "2    3\n",
       "3    4\n",
       "4    5\n",
       "dtype: int64"
      ]
     },
     "execution_count": 12,
     "metadata": {},
     "output_type": "execute_result"
    }
   ],
   "source": [
    "s2 = pd.Series((1,2,3,4,5))\n",
    "s2"
   ]
  },
  {
   "cell_type": "code",
   "execution_count": 13,
   "id": "e0c5076d-c261-4029-842c-baf0397e0176",
   "metadata": {},
   "outputs": [
    {
     "name": "stdout",
     "output_type": "stream",
     "text": [
      "0    1\n",
      "1    2\n",
      "2    4\n",
      "3    5\n",
      "4    6\n",
      "dtype: int64\n"
     ]
    }
   ],
   "source": [
    "# create a series using list\n",
    "l = [1,2,4,5,6]\n",
    "s3 = pd.Series(l)\n",
    "print(s3)"
   ]
  },
  {
   "cell_type": "code",
   "execution_count": 14,
   "id": "8c14fccc-d729-48b0-a1ce-c1aab4dcbe1a",
   "metadata": {},
   "outputs": [
    {
     "data": {
      "text/plain": [
       "0    1\n",
       "1    2\n",
       "2    3\n",
       "dtype: int64"
      ]
     },
     "execution_count": 14,
     "metadata": {},
     "output_type": "execute_result"
    }
   ],
   "source": [
    "t = (1,2,3)\n",
    "s4 = pd.Series(t)\n",
    "s4"
   ]
  },
  {
   "cell_type": "code",
   "execution_count": 18,
   "id": "fc978d30-244c-41ef-a48c-0a2dd735915c",
   "metadata": {},
   "outputs": [
    {
     "data": {
      "text/plain": [
       "1    a\n",
       "2    b\n",
       "3    c\n",
       "dtype: object"
      ]
     },
     "execution_count": 18,
     "metadata": {},
     "output_type": "execute_result"
    }
   ],
   "source": [
    "# create a series using the dictionary\n",
    "d  = {1:'a' , 2 :'b' ,3 :'c'}\n",
    "s5 = pd.Series(d)\n",
    "s5"
   ]
  },
  {
   "cell_type": "code",
   "execution_count": 21,
   "id": "d449b854-5fed-432b-882b-840764a72fd6",
   "metadata": {},
   "outputs": [
    {
     "data": {
      "text/plain": [
       "1      a\n",
       "3      c\n",
       "4    NaN\n",
       "Name: albhabate, dtype: object"
      ]
     },
     "execution_count": 21,
     "metadata": {},
     "output_type": "execute_result"
    }
   ],
   "source": [
    "d  = {1:'a' , 2 :'b' ,3 :'c'}\n",
    "s5 = pd.Series(d , name = 'albhabate' ,)\n",
    "s5"
   ]
  },
  {
   "cell_type": "code",
   "execution_count": 22,
   "id": "cdb5034a-12e9-49f9-961b-060376b22433",
   "metadata": {},
   "outputs": [
    {
     "data": {
      "text/plain": [
       "1        latha\n",
       "2        achar\n",
       "3        Btech\n",
       "4    Bengaluru\n",
       "dtype: object"
      ]
     },
     "execution_count": 22,
     "metadata": {},
     "output_type": "execute_result"
    }
   ],
   "source": [
    "d = {1:'latha' ,2 :'achar' ,3: 'Btech' ,4:'Bengaluru'}\n",
    "s6 = pd.Series(d)\n",
    "s6"
   ]
  },
  {
   "cell_type": "code",
   "execution_count": 25,
   "id": "3ce13256-b7eb-4344-ac54-940e1c267245",
   "metadata": {},
   "outputs": [
    {
     "data": {
      "text/plain": [
       "1    11.0\n",
       "2    12.0\n",
       "3    14.0\n",
       "4    15.0\n",
       "5    16.0\n",
       "dtype: float64"
      ]
     },
     "execution_count": 25,
     "metadata": {},
     "output_type": "execute_result"
    }
   ],
   "source": [
    "s7 = (11,12,14,15,16)\n",
    "pd.Series(s7 , index = [1,2, 3, 4,5 ] , dtype = 'float')"
   ]
  },
  {
   "cell_type": "code",
   "execution_count": 26,
   "id": "e3a48143-d5dc-4bdf-9bbe-b1ec8aaacc58",
   "metadata": {},
   "outputs": [
    {
     "data": {
      "text/plain": [
       "0    1.0\n",
       "1    2.0\n",
       "2    3.0\n",
       "dtype: float64"
      ]
     },
     "execution_count": 26,
     "metadata": {},
     "output_type": "execute_result"
    }
   ],
   "source": [
    "s8 = pd.Series([1.0, 2.0 ,3.0])\n",
    "s8"
   ]
  },
  {
   "cell_type": "code",
   "execution_count": 28,
   "id": "078c746f-7488-44aa-94b8-131f96c3345c",
   "metadata": {},
   "outputs": [
    {
     "data": {
      "text/plain": [
       "1    1.0\n",
       "2    2.0\n",
       "3    3.0\n",
       "dtype: float64"
      ]
     },
     "execution_count": 28,
     "metadata": {},
     "output_type": "execute_result"
    }
   ],
   "source": [
    "s8.index = [1,2,3]\n",
    "s8"
   ]
  },
  {
   "cell_type": "code",
   "execution_count": 32,
   "id": "294ef6a4-56c6-413e-911a-e5d9d694034d",
   "metadata": {},
   "outputs": [
    {
     "data": {
      "text/plain": [
       "1      one\n",
       "2      two\n",
       "4    three\n",
       "3     four\n",
       "5     five\n",
       "Name: number, dtype: object"
      ]
     },
     "execution_count": 32,
     "metadata": {},
     "output_type": "execute_result"
    }
   ],
   "source": [
    "a = np.array(['one' ,'two' ,'three' ,'four' ,'five'])\n",
    "s9 = pd.Series(a , index = [1,2,4,3 ,5] ,name= 'number')\n",
    "s9"
   ]
  },
  {
   "cell_type": "markdown",
   "id": "27c93b2d-2b2e-4c88-a7ad-11be37a88b81",
   "metadata": {},
   "source": [
    "### accesing the observations from series"
   ]
  },
  {
   "cell_type": "code",
   "execution_count": 37,
   "id": "d2c252d1-3c45-4dc1-acea-1e1982a4b331",
   "metadata": {},
   "outputs": [
    {
     "data": {
      "text/plain": [
       "'four'"
      ]
     },
     "execution_count": 37,
     "metadata": {},
     "output_type": "execute_result"
    }
   ],
   "source": [
    "s9[3]"
   ]
  },
  {
   "cell_type": "code",
   "execution_count": 41,
   "id": "2ff248c2-c887-4b6d-a5c7-3e830b0653c8",
   "metadata": {},
   "outputs": [
    {
     "data": {
      "text/plain": [
       "'five'"
      ]
     },
     "execution_count": 41,
     "metadata": {},
     "output_type": "execute_result"
    }
   ],
   "source": [
    "s9[5]"
   ]
  },
  {
   "cell_type": "code",
   "execution_count": 42,
   "id": "e8373a36-22e7-46ab-8f58-5170eabde989",
   "metadata": {},
   "outputs": [
    {
     "data": {
      "text/plain": [
       "2      two\n",
       "4    three\n",
       "Name: number, dtype: object"
      ]
     },
     "execution_count": 42,
     "metadata": {},
     "output_type": "execute_result"
    }
   ],
   "source": [
    "s9[1:3]"
   ]
  },
  {
   "cell_type": "code",
   "execution_count": 38,
   "id": "46efe3a5-3ea5-455b-96e3-8d4809ca5bec",
   "metadata": {},
   "outputs": [
    {
     "data": {
      "text/plain": [
       "1    one\n",
       "2    two\n",
       "Name: number, dtype: object"
      ]
     },
     "execution_count": 38,
     "metadata": {},
     "output_type": "execute_result"
    }
   ],
   "source": [
    "s9[0:2]"
   ]
  },
  {
   "cell_type": "code",
   "execution_count": 43,
   "id": "8c4d2806-d803-4560-8408-33d8736cd02e",
   "metadata": {},
   "outputs": [],
   "source": [
    "s9[1] = 10 "
   ]
  },
  {
   "cell_type": "code",
   "execution_count": 46,
   "id": "f46816d0-7f5e-4f27-b0bd-c5fd286d0f06",
   "metadata": {},
   "outputs": [
    {
     "data": {
      "text/plain": [
       "1       10\n",
       "2      two\n",
       "4    three\n",
       "3     four\n",
       "5     five\n",
       "Name: number, dtype: object"
      ]
     },
     "execution_count": 46,
     "metadata": {},
     "output_type": "execute_result"
    }
   ],
   "source": [
    "s9"
   ]
  },
  {
   "cell_type": "code",
   "execution_count": 47,
   "id": "1c71af7a-1dc7-41ec-acf2-aac78f587cfc",
   "metadata": {},
   "outputs": [
    {
     "data": {
      "text/plain": [
       "4    three\n",
       "3     four\n",
       "5     five\n",
       "Name: number, dtype: object"
      ]
     },
     "execution_count": 47,
     "metadata": {},
     "output_type": "execute_result"
    }
   ],
   "source": [
    "s9[2:5]"
   ]
  },
  {
   "cell_type": "code",
   "execution_count": 44,
   "id": "6ae0a37c-1b3f-414e-bb71-fed135a7e0a6",
   "metadata": {},
   "outputs": [
    {
     "data": {
      "text/plain": [
       "1       10\n",
       "2      two\n",
       "4    three\n",
       "3     four\n",
       "5     five\n",
       "Name: number, dtype: object"
      ]
     },
     "execution_count": 44,
     "metadata": {},
     "output_type": "execute_result"
    }
   ],
   "source": [
    "s9"
   ]
  },
  {
   "cell_type": "code",
   "execution_count": 50,
   "id": "d887622b-26df-46c1-8d4d-965c43395200",
   "metadata": {},
   "outputs": [],
   "source": [
    "s9[1:3] = [20 ,30]"
   ]
  },
  {
   "cell_type": "code",
   "execution_count": 51,
   "id": "7fd7f450-6897-488f-be7c-c5b9063aa60b",
   "metadata": {},
   "outputs": [
    {
     "data": {
      "text/plain": [
       "1      10\n",
       "2      20\n",
       "4      30\n",
       "3    four\n",
       "5    five\n",
       "Name: number, dtype: object"
      ]
     },
     "execution_count": 51,
     "metadata": {},
     "output_type": "execute_result"
    }
   ],
   "source": [
    "s9"
   ]
  },
  {
   "cell_type": "markdown",
   "id": "7b693389-3697-45ad-b321-bccbff44dda8",
   "metadata": {},
   "source": [
    "# Disadvantages of Series\n",
    "-series does not have column name , which is very irrelevent \n",
    "- without column name there is no much meaning for the data which is stored\n",
    "-  Hence giving such data for the model to learn is not benificial /not valid for    the model\n",
    "- therefore , we shifted to new data structure called Dataframe"
   ]
  },
  {
   "cell_type": "markdown",
   "id": "2e7cc747-3418-4e40-929f-3b7c86e9b4c5",
   "metadata": {},
   "source": [
    "### DataFrame\n",
    "- is a 2D data structure i.e. information is stored in the form of rows and columns\n",
    "- usually call it as table\n",
    "- any data which is stored as dataframe / table is a ready data for the model to learn"
   ]
  },
  {
   "cell_type": "markdown",
   "id": "64b086c6-624a-4d96-a518-c3c448a724ee",
   "metadata": {},
   "source": [
    "### properties \n",
    "1. all the column have name and corresponding values will be stored in row\n",
    "2. all the column will have its own data type and hold homogenous data\n",
    "3. easy to access columns and rows and do manupulate on it"
   ]
  },
  {
   "cell_type": "code",
   "execution_count": 172,
   "id": "0439bf88-9874-40f9-8ed2-37a6b02c04a2",
   "metadata": {},
   "outputs": [
    {
     "data": {
      "text/html": [
       "<div>\n",
       "<style scoped>\n",
       "    .dataframe tbody tr th:only-of-type {\n",
       "        vertical-align: middle;\n",
       "    }\n",
       "\n",
       "    .dataframe tbody tr th {\n",
       "        vertical-align: top;\n",
       "    }\n",
       "\n",
       "    .dataframe thead th {\n",
       "        text-align: right;\n",
       "    }\n",
       "</style>\n",
       "<table border=\"1\" class=\"dataframe\">\n",
       "  <thead>\n",
       "    <tr style=\"text-align: right;\">\n",
       "      <th></th>\n",
       "      <th>a</th>\n",
       "      <th>b</th>\n",
       "      <th>c</th>\n",
       "      <th>d</th>\n",
       "    </tr>\n",
       "  </thead>\n",
       "  <tbody>\n",
       "    <tr>\n",
       "      <th>0</th>\n",
       "      <td>1</td>\n",
       "      <td>2</td>\n",
       "      <td>3</td>\n",
       "      <td>4</td>\n",
       "    </tr>\n",
       "  </tbody>\n",
       "</table>\n",
       "</div>"
      ],
      "text/plain": [
       "   a  b  c  d\n",
       "0  1  2  3  4"
      ]
     },
     "execution_count": 172,
     "metadata": {},
     "output_type": "execute_result"
    }
   ],
   "source": [
    "l1 = [[1,2,3,4]  ]\n",
    "pd.DataFrame(l , columns  =   ['a' ,'b' ,'c' ,'d'])"
   ]
  },
  {
   "cell_type": "code",
   "execution_count": null,
   "id": "f7fcb9e1-e99e-4295-bf7d-83c6ed475ab4",
   "metadata": {},
   "outputs": [],
   "source": [
    "l2 = pd.DataFrame([])"
   ]
  },
  {
   "cell_type": "code",
   "execution_count": 171,
   "id": "94415b39-db2c-44d2-aea4-5785211034d2",
   "metadata": {},
   "outputs": [
    {
     "data": {
      "text/html": [
       "<div>\n",
       "<style scoped>\n",
       "    .dataframe tbody tr th:only-of-type {\n",
       "        vertical-align: middle;\n",
       "    }\n",
       "\n",
       "    .dataframe tbody tr th {\n",
       "        vertical-align: top;\n",
       "    }\n",
       "\n",
       "    .dataframe thead th {\n",
       "        text-align: right;\n",
       "    }\n",
       "</style>\n",
       "<table border=\"1\" class=\"dataframe\">\n",
       "  <thead>\n",
       "    <tr style=\"text-align: right;\">\n",
       "      <th></th>\n",
       "      <th>0</th>\n",
       "      <th>1</th>\n",
       "    </tr>\n",
       "  </thead>\n",
       "  <tbody>\n",
       "    <tr>\n",
       "      <th>0</th>\n",
       "      <td>1</td>\n",
       "      <td>2</td>\n",
       "    </tr>\n",
       "    <tr>\n",
       "      <th>1</th>\n",
       "      <td>3</td>\n",
       "      <td>4</td>\n",
       "    </tr>\n",
       "  </tbody>\n",
       "</table>\n",
       "</div>"
      ],
      "text/plain": [
       "   0  1\n",
       "0  1  2\n",
       "1  3  4"
      ]
     },
     "execution_count": 171,
     "metadata": {},
     "output_type": "execute_result"
    }
   ],
   "source": [
    "# syntax : pd.DataFrame(data ,column)\n",
    "l = [[1,2] ,[3,4]]\n",
    "d  = pd.DataFrame(l)\n",
    "d"
   ]
  },
  {
   "cell_type": "code",
   "execution_count": 54,
   "id": "ac6886ea-0023-4cb1-86dc-f6f17de656e2",
   "metadata": {},
   "outputs": [],
   "source": [
    "df1 = pd.DataFrame( l , columns = ['first' ,'second'])"
   ]
  },
  {
   "cell_type": "code",
   "execution_count": 55,
   "id": "0c410a49-57fa-49d3-83f0-0bc571e344d9",
   "metadata": {},
   "outputs": [
    {
     "data": {
      "text/html": [
       "<div>\n",
       "<style scoped>\n",
       "    .dataframe tbody tr th:only-of-type {\n",
       "        vertical-align: middle;\n",
       "    }\n",
       "\n",
       "    .dataframe tbody tr th {\n",
       "        vertical-align: top;\n",
       "    }\n",
       "\n",
       "    .dataframe thead th {\n",
       "        text-align: right;\n",
       "    }\n",
       "</style>\n",
       "<table border=\"1\" class=\"dataframe\">\n",
       "  <thead>\n",
       "    <tr style=\"text-align: right;\">\n",
       "      <th></th>\n",
       "      <th>first</th>\n",
       "      <th>second</th>\n",
       "    </tr>\n",
       "  </thead>\n",
       "  <tbody>\n",
       "    <tr>\n",
       "      <th>0</th>\n",
       "      <td>1</td>\n",
       "      <td>2</td>\n",
       "    </tr>\n",
       "    <tr>\n",
       "      <th>1</th>\n",
       "      <td>3</td>\n",
       "      <td>4</td>\n",
       "    </tr>\n",
       "  </tbody>\n",
       "</table>\n",
       "</div>"
      ],
      "text/plain": [
       "   first  second\n",
       "0      1       2\n",
       "1      3       4"
      ]
     },
     "execution_count": 55,
     "metadata": {},
     "output_type": "execute_result"
    }
   ],
   "source": [
    "df1"
   ]
  },
  {
   "cell_type": "code",
   "execution_count": 58,
   "id": "7336095b-a602-46ca-89db-05dc99ca90dc",
   "metadata": {},
   "outputs": [
    {
     "data": {
      "text/html": [
       "<div>\n",
       "<style scoped>\n",
       "    .dataframe tbody tr th:only-of-type {\n",
       "        vertical-align: middle;\n",
       "    }\n",
       "\n",
       "    .dataframe tbody tr th {\n",
       "        vertical-align: top;\n",
       "    }\n",
       "\n",
       "    .dataframe thead th {\n",
       "        text-align: right;\n",
       "    }\n",
       "</style>\n",
       "<table border=\"1\" class=\"dataframe\">\n",
       "  <thead>\n",
       "    <tr style=\"text-align: right;\">\n",
       "      <th></th>\n",
       "      <th>first</th>\n",
       "      <th>second</th>\n",
       "    </tr>\n",
       "  </thead>\n",
       "  <tbody>\n",
       "    <tr>\n",
       "      <th>1</th>\n",
       "      <td>1</td>\n",
       "      <td>2</td>\n",
       "    </tr>\n",
       "    <tr>\n",
       "      <th>2</th>\n",
       "      <td>3</td>\n",
       "      <td>4</td>\n",
       "    </tr>\n",
       "  </tbody>\n",
       "</table>\n",
       "</div>"
      ],
      "text/plain": [
       "   first  second\n",
       "1      1       2\n",
       "2      3       4"
      ]
     },
     "execution_count": 58,
     "metadata": {},
     "output_type": "execute_result"
    }
   ],
   "source": [
    "df2 = pd.DataFrame( l , columns = ['first' ,'second'],index = [1,2])\n",
    "df2"
   ]
  },
  {
   "cell_type": "code",
   "execution_count": 60,
   "id": "d0fbd951-fd10-4e26-b870-a3b949346f17",
   "metadata": {},
   "outputs": [
    {
     "data": {
      "text/html": [
       "<div>\n",
       "<style scoped>\n",
       "    .dataframe tbody tr th:only-of-type {\n",
       "        vertical-align: middle;\n",
       "    }\n",
       "\n",
       "    .dataframe tbody tr th {\n",
       "        vertical-align: top;\n",
       "    }\n",
       "\n",
       "    .dataframe thead th {\n",
       "        text-align: right;\n",
       "    }\n",
       "</style>\n",
       "<table border=\"1\" class=\"dataframe\">\n",
       "  <thead>\n",
       "    <tr style=\"text-align: right;\">\n",
       "      <th></th>\n",
       "      <th>name</th>\n",
       "      <th>age</th>\n",
       "    </tr>\n",
       "  </thead>\n",
       "  <tbody>\n",
       "    <tr>\n",
       "      <th>0</th>\n",
       "      <td>john</td>\n",
       "      <td>24</td>\n",
       "    </tr>\n",
       "    <tr>\n",
       "      <th>1</th>\n",
       "      <td>lakshmi</td>\n",
       "      <td>24</td>\n",
       "    </tr>\n",
       "    <tr>\n",
       "      <th>2</th>\n",
       "      <td>marry</td>\n",
       "      <td>24</td>\n",
       "    </tr>\n",
       "  </tbody>\n",
       "</table>\n",
       "</div>"
      ],
      "text/plain": [
       "      name  age\n",
       "0     john   24\n",
       "1  lakshmi   24\n",
       "2    marry   24"
      ]
     },
     "execution_count": 60,
     "metadata": {},
     "output_type": "execute_result"
    }
   ],
   "source": [
    "l1 = [['john' ,24] ,['lakshmi' ,24] ,['marry' ,24]]\n",
    "df2 = pd.DataFrame(l1, columns = ['name' ,'age'])\n",
    "df2"
   ]
  },
  {
   "cell_type": "code",
   "execution_count": 63,
   "id": "132e4c56-97d7-4ab2-aee7-963a3b25d736",
   "metadata": {},
   "outputs": [
    {
     "data": {
      "text/html": [
       "<div>\n",
       "<style scoped>\n",
       "    .dataframe tbody tr th:only-of-type {\n",
       "        vertical-align: middle;\n",
       "    }\n",
       "\n",
       "    .dataframe tbody tr th {\n",
       "        vertical-align: top;\n",
       "    }\n",
       "\n",
       "    .dataframe thead th {\n",
       "        text-align: right;\n",
       "    }\n",
       "</style>\n",
       "<table border=\"1\" class=\"dataframe\">\n",
       "  <thead>\n",
       "    <tr style=\"text-align: right;\">\n",
       "      <th></th>\n",
       "      <th>Fruit</th>\n",
       "      <th>kilo</th>\n",
       "      <th>cost</th>\n",
       "    </tr>\n",
       "  </thead>\n",
       "  <tbody>\n",
       "    <tr>\n",
       "      <th>0</th>\n",
       "      <td>apple</td>\n",
       "      <td>1</td>\n",
       "      <td>100.0</td>\n",
       "    </tr>\n",
       "    <tr>\n",
       "      <th>1</th>\n",
       "      <td>orange</td>\n",
       "      <td>1</td>\n",
       "      <td>NaN</td>\n",
       "    </tr>\n",
       "  </tbody>\n",
       "</table>\n",
       "</div>"
      ],
      "text/plain": [
       "    Fruit  kilo   cost\n",
       "0   apple     1  100.0\n",
       "1  orange     1    NaN"
      ]
     },
     "execution_count": 63,
     "metadata": {},
     "output_type": "execute_result"
    }
   ],
   "source": [
    "l2 = [['apple' ,1,100] ,['orange' ,1]]\n",
    "df3 = pd.DataFrame(l2 , columns = ['Fruit' , 'kilo'  ,'cost'])\n",
    "df3"
   ]
  },
  {
   "cell_type": "code",
   "execution_count": 65,
   "id": "15cf0d8b-ef6a-43fd-8625-c9d532b5303a",
   "metadata": {},
   "outputs": [
    {
     "data": {
      "text/html": [
       "<div>\n",
       "<style scoped>\n",
       "    .dataframe tbody tr th:only-of-type {\n",
       "        vertical-align: middle;\n",
       "    }\n",
       "\n",
       "    .dataframe tbody tr th {\n",
       "        vertical-align: top;\n",
       "    }\n",
       "\n",
       "    .dataframe thead th {\n",
       "        text-align: right;\n",
       "    }\n",
       "</style>\n",
       "<table border=\"1\" class=\"dataframe\">\n",
       "  <thead>\n",
       "    <tr style=\"text-align: right;\">\n",
       "      <th></th>\n",
       "      <th>Fruit</th>\n",
       "      <th>kilo</th>\n",
       "      <th>cost</th>\n",
       "    </tr>\n",
       "  </thead>\n",
       "  <tbody>\n",
       "    <tr>\n",
       "      <th>0</th>\n",
       "      <td>apple</td>\n",
       "      <td>1</td>\n",
       "      <td>100.0</td>\n",
       "    </tr>\n",
       "    <tr>\n",
       "      <th>1</th>\n",
       "      <td>orange</td>\n",
       "      <td>1</td>\n",
       "      <td>NaN</td>\n",
       "    </tr>\n",
       "  </tbody>\n",
       "</table>\n",
       "</div>"
      ],
      "text/plain": [
       "    Fruit  kilo   cost\n",
       "0   apple     1  100.0\n",
       "1  orange     1    NaN"
      ]
     },
     "execution_count": 65,
     "metadata": {},
     "output_type": "execute_result"
    }
   ],
   "source": [
    "l2 = [['apple' ,1,100] ,['orange' ,1]]\n",
    "df3 = pd.DataFrame(l2 , columns = ['Fruit' , 'kilo'  ,'cost' ])\n",
    "df3"
   ]
  },
  {
   "cell_type": "code",
   "execution_count": 152,
   "id": "1678cfaa-69d6-4048-9ac4-944108cf0760",
   "metadata": {},
   "outputs": [
    {
     "data": {
      "text/plain": [
       "{'Name': ('Lakshmi', 'john', 'mary', 'ABC', 'XYZ'),\n",
       " 'age': [24, 25, 24, 27, 27],\n",
       " 'domain': ['SME', 'DS', 'DA', 'DE', 'AI'],\n",
       " 'salary': [30000, 35000, 40000, 45000, 50000]}"
      ]
     },
     "execution_count": 152,
     "metadata": {},
     "output_type": "execute_result"
    }
   ],
   "source": [
    "# dictionary \n",
    "d = {'Name' : ('Lakshmi' ,'john' ,'mary' ,'ABC' ,'XYZ'),'age': [24,25,24,27,27],\n",
    "    'domain' : ['SME' ,'DS' ,'DA' ,'DE','AI'],\n",
    "    'salary' :[30000 ,35000 ,40000 ,45000 ,50000]}\n",
    "d"
   ]
  },
  {
   "cell_type": "code",
   "execution_count": 175,
   "id": "8dea5063-5cdc-4661-8525-146895c3fe07",
   "metadata": {},
   "outputs": [
    {
     "data": {
      "text/html": [
       "<div>\n",
       "<style scoped>\n",
       "    .dataframe tbody tr th:only-of-type {\n",
       "        vertical-align: middle;\n",
       "    }\n",
       "\n",
       "    .dataframe tbody tr th {\n",
       "        vertical-align: top;\n",
       "    }\n",
       "\n",
       "    .dataframe thead th {\n",
       "        text-align: right;\n",
       "    }\n",
       "</style>\n",
       "<table border=\"1\" class=\"dataframe\">\n",
       "  <thead>\n",
       "    <tr style=\"text-align: right;\">\n",
       "      <th></th>\n",
       "      <th>0</th>\n",
       "      <th>1</th>\n",
       "      <th>2</th>\n",
       "      <th>3</th>\n",
       "      <th>4</th>\n",
       "    </tr>\n",
       "  </thead>\n",
       "  <tbody>\n",
       "    <tr>\n",
       "      <th>0</th>\n",
       "      <td>Lakshmi</td>\n",
       "      <td>john</td>\n",
       "      <td>mary</td>\n",
       "      <td>ABC</td>\n",
       "      <td>XYZ</td>\n",
       "    </tr>\n",
       "    <tr>\n",
       "      <th>1</th>\n",
       "      <td>24</td>\n",
       "      <td>25</td>\n",
       "      <td>24</td>\n",
       "      <td>27</td>\n",
       "      <td>27</td>\n",
       "    </tr>\n",
       "    <tr>\n",
       "      <th>2</th>\n",
       "      <td>SME</td>\n",
       "      <td>DS</td>\n",
       "      <td>DA</td>\n",
       "      <td>DE</td>\n",
       "      <td>AI</td>\n",
       "    </tr>\n",
       "  </tbody>\n",
       "</table>\n",
       "</div>"
      ],
      "text/plain": [
       "         0     1     2    3    4\n",
       "0  Lakshmi  john  mary  ABC  XYZ\n",
       "1       24    25    24   27   27\n",
       "2      SME    DS    DA   DE   AI"
      ]
     },
     "execution_count": 175,
     "metadata": {},
     "output_type": "execute_result"
    }
   ],
   "source": [
    "Name = ('Lakshmi' ,'john' ,'mary' ,'ABC' ,'XYZ')\n",
    "age  =  [24,25,24,27,27]\n",
    "domain =  ['SME' ,'DS' ,'DA' ,'DE','AI']\n",
    "pd.DataFrame([Name , age , domain])"
   ]
  },
  {
   "cell_type": "code",
   "execution_count": 153,
   "id": "de962dcc-dd08-44fd-ab92-139f6428f075",
   "metadata": {},
   "outputs": [
    {
     "data": {
      "text/html": [
       "<div>\n",
       "<style scoped>\n",
       "    .dataframe tbody tr th:only-of-type {\n",
       "        vertical-align: middle;\n",
       "    }\n",
       "\n",
       "    .dataframe tbody tr th {\n",
       "        vertical-align: top;\n",
       "    }\n",
       "\n",
       "    .dataframe thead th {\n",
       "        text-align: right;\n",
       "    }\n",
       "</style>\n",
       "<table border=\"1\" class=\"dataframe\">\n",
       "  <thead>\n",
       "    <tr style=\"text-align: right;\">\n",
       "      <th></th>\n",
       "      <th>Name</th>\n",
       "      <th>age</th>\n",
       "      <th>domain</th>\n",
       "      <th>salary</th>\n",
       "    </tr>\n",
       "  </thead>\n",
       "  <tbody>\n",
       "    <tr>\n",
       "      <th>1</th>\n",
       "      <td>Lakshmi</td>\n",
       "      <td>24</td>\n",
       "      <td>SME</td>\n",
       "      <td>30000</td>\n",
       "    </tr>\n",
       "    <tr>\n",
       "      <th>2</th>\n",
       "      <td>john</td>\n",
       "      <td>25</td>\n",
       "      <td>DS</td>\n",
       "      <td>35000</td>\n",
       "    </tr>\n",
       "    <tr>\n",
       "      <th>3</th>\n",
       "      <td>mary</td>\n",
       "      <td>24</td>\n",
       "      <td>DA</td>\n",
       "      <td>40000</td>\n",
       "    </tr>\n",
       "    <tr>\n",
       "      <th>4</th>\n",
       "      <td>ABC</td>\n",
       "      <td>27</td>\n",
       "      <td>DE</td>\n",
       "      <td>45000</td>\n",
       "    </tr>\n",
       "    <tr>\n",
       "      <th>5</th>\n",
       "      <td>XYZ</td>\n",
       "      <td>27</td>\n",
       "      <td>AI</td>\n",
       "      <td>50000</td>\n",
       "    </tr>\n",
       "  </tbody>\n",
       "</table>\n",
       "</div>"
      ],
      "text/plain": [
       "      Name  age domain  salary\n",
       "1  Lakshmi   24    SME   30000\n",
       "2     john   25     DS   35000\n",
       "3     mary   24     DA   40000\n",
       "4      ABC   27     DE   45000\n",
       "5      XYZ   27     AI   50000"
      ]
     },
     "execution_count": 153,
     "metadata": {},
     "output_type": "execute_result"
    }
   ],
   "source": [
    "data = pd.DataFrame(d ,index = [1,2,3,4,5])\n",
    "data"
   ]
  },
  {
   "cell_type": "code",
   "execution_count": 76,
   "id": "afc48bc3-60fd-4082-a935-978a55606b30",
   "metadata": {},
   "outputs": [
    {
     "data": {
      "text/html": [
       "<div>\n",
       "<style scoped>\n",
       "    .dataframe tbody tr th:only-of-type {\n",
       "        vertical-align: middle;\n",
       "    }\n",
       "\n",
       "    .dataframe tbody tr th {\n",
       "        vertical-align: top;\n",
       "    }\n",
       "\n",
       "    .dataframe thead th {\n",
       "        text-align: right;\n",
       "    }\n",
       "</style>\n",
       "<table border=\"1\" class=\"dataframe\">\n",
       "  <thead>\n",
       "    <tr style=\"text-align: right;\">\n",
       "      <th></th>\n",
       "      <th>Name</th>\n",
       "      <th>age</th>\n",
       "      <th>domain</th>\n",
       "      <th>salary</th>\n",
       "    </tr>\n",
       "  </thead>\n",
       "  <tbody>\n",
       "    <tr>\n",
       "      <th>1</th>\n",
       "      <td>Lakshmi</td>\n",
       "      <td>24</td>\n",
       "      <td>SME</td>\n",
       "      <td>30000</td>\n",
       "    </tr>\n",
       "    <tr>\n",
       "      <th>2</th>\n",
       "      <td>john</td>\n",
       "      <td>25</td>\n",
       "      <td>DS</td>\n",
       "      <td>35000</td>\n",
       "    </tr>\n",
       "    <tr>\n",
       "      <th>3</th>\n",
       "      <td>mary</td>\n",
       "      <td>24</td>\n",
       "      <td>DA</td>\n",
       "      <td>40000</td>\n",
       "    </tr>\n",
       "    <tr>\n",
       "      <th>4</th>\n",
       "      <td>ABC</td>\n",
       "      <td>27</td>\n",
       "      <td>DE</td>\n",
       "      <td>45000</td>\n",
       "    </tr>\n",
       "    <tr>\n",
       "      <th>5</th>\n",
       "      <td>XYZ</td>\n",
       "      <td>27</td>\n",
       "      <td>AI</td>\n",
       "      <td>50000</td>\n",
       "    </tr>\n",
       "  </tbody>\n",
       "</table>\n",
       "</div>"
      ],
      "text/plain": [
       "      Name  age domain  salary\n",
       "1  Lakshmi   24    SME   30000\n",
       "2     john   25     DS   35000\n",
       "3     mary   24     DA   40000\n",
       "4      ABC   27     DE   45000\n",
       "5      XYZ   27     AI   50000"
      ]
     },
     "execution_count": 76,
     "metadata": {},
     "output_type": "execute_result"
    }
   ],
   "source": [
    "data.set_index = [1,2,3,4,5]\n",
    "data"
   ]
  },
  {
   "cell_type": "code",
   "execution_count": 80,
   "id": "5c31fbea-cfd7-4550-9fdf-a46f63263b70",
   "metadata": {},
   "outputs": [
    {
     "data": {
      "text/html": [
       "<div>\n",
       "<style scoped>\n",
       "    .dataframe tbody tr th:only-of-type {\n",
       "        vertical-align: middle;\n",
       "    }\n",
       "\n",
       "    .dataframe tbody tr th {\n",
       "        vertical-align: top;\n",
       "    }\n",
       "\n",
       "    .dataframe thead th {\n",
       "        text-align: right;\n",
       "    }\n",
       "</style>\n",
       "<table border=\"1\" class=\"dataframe\">\n",
       "  <thead>\n",
       "    <tr style=\"text-align: right;\">\n",
       "      <th></th>\n",
       "      <th>Name</th>\n",
       "      <th>age</th>\n",
       "      <th>domain</th>\n",
       "      <th>salary</th>\n",
       "    </tr>\n",
       "  </thead>\n",
       "  <tbody>\n",
       "    <tr>\n",
       "      <th>1</th>\n",
       "      <td>Lakshmi</td>\n",
       "      <td>24</td>\n",
       "      <td>SME</td>\n",
       "      <td>30000</td>\n",
       "    </tr>\n",
       "    <tr>\n",
       "      <th>3</th>\n",
       "      <td>mary</td>\n",
       "      <td>24</td>\n",
       "      <td>DA</td>\n",
       "      <td>40000</td>\n",
       "    </tr>\n",
       "    <tr>\n",
       "      <th>2</th>\n",
       "      <td>john</td>\n",
       "      <td>25</td>\n",
       "      <td>DS</td>\n",
       "      <td>35000</td>\n",
       "    </tr>\n",
       "    <tr>\n",
       "      <th>4</th>\n",
       "      <td>ABC</td>\n",
       "      <td>27</td>\n",
       "      <td>DE</td>\n",
       "      <td>45000</td>\n",
       "    </tr>\n",
       "    <tr>\n",
       "      <th>5</th>\n",
       "      <td>XYZ</td>\n",
       "      <td>27</td>\n",
       "      <td>AI</td>\n",
       "      <td>50000</td>\n",
       "    </tr>\n",
       "  </tbody>\n",
       "</table>\n",
       "</div>"
      ],
      "text/plain": [
       "      Name  age domain  salary\n",
       "1  Lakshmi   24    SME   30000\n",
       "3     mary   24     DA   40000\n",
       "2     john   25     DS   35000\n",
       "4      ABC   27     DE   45000\n",
       "5      XYZ   27     AI   50000"
      ]
     },
     "execution_count": 80,
     "metadata": {},
     "output_type": "execute_result"
    }
   ],
   "source": [
    "data.sort_values('age' )"
   ]
  },
  {
   "cell_type": "code",
   "execution_count": 81,
   "id": "bcb9b9f6-1563-4cfe-872c-357fb6d3bd32",
   "metadata": {},
   "outputs": [
    {
     "data": {
      "text/html": [
       "<div>\n",
       "<style scoped>\n",
       "    .dataframe tbody tr th:only-of-type {\n",
       "        vertical-align: middle;\n",
       "    }\n",
       "\n",
       "    .dataframe tbody tr th {\n",
       "        vertical-align: top;\n",
       "    }\n",
       "\n",
       "    .dataframe thead th {\n",
       "        text-align: right;\n",
       "    }\n",
       "</style>\n",
       "<table border=\"1\" class=\"dataframe\">\n",
       "  <thead>\n",
       "    <tr style=\"text-align: right;\">\n",
       "      <th></th>\n",
       "      <th>Name</th>\n",
       "      <th>age</th>\n",
       "      <th>domain</th>\n",
       "      <th>salary</th>\n",
       "    </tr>\n",
       "  </thead>\n",
       "  <tbody>\n",
       "    <tr>\n",
       "      <th>1</th>\n",
       "      <td>Lakshmi</td>\n",
       "      <td>24</td>\n",
       "      <td>SME</td>\n",
       "      <td>30000</td>\n",
       "    </tr>\n",
       "    <tr>\n",
       "      <th>2</th>\n",
       "      <td>john</td>\n",
       "      <td>25</td>\n",
       "      <td>DS</td>\n",
       "      <td>35000</td>\n",
       "    </tr>\n",
       "    <tr>\n",
       "      <th>3</th>\n",
       "      <td>mary</td>\n",
       "      <td>24</td>\n",
       "      <td>DA</td>\n",
       "      <td>40000</td>\n",
       "    </tr>\n",
       "    <tr>\n",
       "      <th>4</th>\n",
       "      <td>ABC</td>\n",
       "      <td>27</td>\n",
       "      <td>DE</td>\n",
       "      <td>45000</td>\n",
       "    </tr>\n",
       "    <tr>\n",
       "      <th>5</th>\n",
       "      <td>XYZ</td>\n",
       "      <td>27</td>\n",
       "      <td>AI</td>\n",
       "      <td>50000</td>\n",
       "    </tr>\n",
       "  </tbody>\n",
       "</table>\n",
       "</div>"
      ],
      "text/plain": [
       "      Name  age domain  salary\n",
       "1  Lakshmi   24    SME   30000\n",
       "2     john   25     DS   35000\n",
       "3     mary   24     DA   40000\n",
       "4      ABC   27     DE   45000\n",
       "5      XYZ   27     AI   50000"
      ]
     },
     "execution_count": 81,
     "metadata": {},
     "output_type": "execute_result"
    }
   ],
   "source": [
    "data.sort_index()"
   ]
  },
  {
   "cell_type": "code",
   "execution_count": 82,
   "id": "a57d14f3-234d-494e-b222-12a935bbbe90",
   "metadata": {},
   "outputs": [
    {
     "data": {
      "text/html": [
       "<div>\n",
       "<style scoped>\n",
       "    .dataframe tbody tr th:only-of-type {\n",
       "        vertical-align: middle;\n",
       "    }\n",
       "\n",
       "    .dataframe tbody tr th {\n",
       "        vertical-align: top;\n",
       "    }\n",
       "\n",
       "    .dataframe thead th {\n",
       "        text-align: right;\n",
       "    }\n",
       "</style>\n",
       "<table border=\"1\" class=\"dataframe\">\n",
       "  <thead>\n",
       "    <tr style=\"text-align: right;\">\n",
       "      <th></th>\n",
       "      <th>Name</th>\n",
       "      <th>age</th>\n",
       "      <th>domain</th>\n",
       "      <th>salary</th>\n",
       "    </tr>\n",
       "  </thead>\n",
       "  <tbody>\n",
       "    <tr>\n",
       "      <th>5</th>\n",
       "      <td>XYZ</td>\n",
       "      <td>27</td>\n",
       "      <td>AI</td>\n",
       "      <td>50000</td>\n",
       "    </tr>\n",
       "    <tr>\n",
       "      <th>4</th>\n",
       "      <td>ABC</td>\n",
       "      <td>27</td>\n",
       "      <td>DE</td>\n",
       "      <td>45000</td>\n",
       "    </tr>\n",
       "    <tr>\n",
       "      <th>3</th>\n",
       "      <td>mary</td>\n",
       "      <td>24</td>\n",
       "      <td>DA</td>\n",
       "      <td>40000</td>\n",
       "    </tr>\n",
       "    <tr>\n",
       "      <th>2</th>\n",
       "      <td>john</td>\n",
       "      <td>25</td>\n",
       "      <td>DS</td>\n",
       "      <td>35000</td>\n",
       "    </tr>\n",
       "    <tr>\n",
       "      <th>1</th>\n",
       "      <td>Lakshmi</td>\n",
       "      <td>24</td>\n",
       "      <td>SME</td>\n",
       "      <td>30000</td>\n",
       "    </tr>\n",
       "  </tbody>\n",
       "</table>\n",
       "</div>"
      ],
      "text/plain": [
       "      Name  age domain  salary\n",
       "5      XYZ   27     AI   50000\n",
       "4      ABC   27     DE   45000\n",
       "3     mary   24     DA   40000\n",
       "2     john   25     DS   35000\n",
       "1  Lakshmi   24    SME   30000"
      ]
     },
     "execution_count": 82,
     "metadata": {},
     "output_type": "execute_result"
    }
   ],
   "source": [
    "data.sort_index(ascending = False)"
   ]
  },
  {
   "cell_type": "code",
   "execution_count": null,
   "id": "b2839690-741a-415c-aa66-93b3b90f3c29",
   "metadata": {},
   "outputs": [],
   "source": [
    "# inplace = True \n",
    "# this parameter will apply the change permenantly \n"
   ]
  },
  {
   "cell_type": "code",
   "execution_count": 86,
   "id": "8f7aca9b-2958-4290-9aeb-a1d5322b3702",
   "metadata": {},
   "outputs": [
    {
     "data": {
      "text/html": [
       "<div>\n",
       "<style scoped>\n",
       "    .dataframe tbody tr th:only-of-type {\n",
       "        vertical-align: middle;\n",
       "    }\n",
       "\n",
       "    .dataframe tbody tr th {\n",
       "        vertical-align: top;\n",
       "    }\n",
       "\n",
       "    .dataframe thead th {\n",
       "        text-align: right;\n",
       "    }\n",
       "</style>\n",
       "<table border=\"1\" class=\"dataframe\">\n",
       "  <thead>\n",
       "    <tr style=\"text-align: right;\">\n",
       "      <th></th>\n",
       "      <th>Name</th>\n",
       "      <th>age</th>\n",
       "      <th>domain</th>\n",
       "      <th>salary</th>\n",
       "    </tr>\n",
       "  </thead>\n",
       "  <tbody>\n",
       "    <tr>\n",
       "      <th>1</th>\n",
       "      <td>Lakshmi</td>\n",
       "      <td>24</td>\n",
       "      <td>SME</td>\n",
       "      <td>30000</td>\n",
       "    </tr>\n",
       "    <tr>\n",
       "      <th>3</th>\n",
       "      <td>mary</td>\n",
       "      <td>24</td>\n",
       "      <td>DA</td>\n",
       "      <td>40000</td>\n",
       "    </tr>\n",
       "    <tr>\n",
       "      <th>2</th>\n",
       "      <td>john</td>\n",
       "      <td>25</td>\n",
       "      <td>DS</td>\n",
       "      <td>35000</td>\n",
       "    </tr>\n",
       "    <tr>\n",
       "      <th>4</th>\n",
       "      <td>ABC</td>\n",
       "      <td>27</td>\n",
       "      <td>DE</td>\n",
       "      <td>45000</td>\n",
       "    </tr>\n",
       "    <tr>\n",
       "      <th>5</th>\n",
       "      <td>XYZ</td>\n",
       "      <td>27</td>\n",
       "      <td>AI</td>\n",
       "      <td>50000</td>\n",
       "    </tr>\n",
       "  </tbody>\n",
       "</table>\n",
       "</div>"
      ],
      "text/plain": [
       "      Name  age domain  salary\n",
       "1  Lakshmi   24    SME   30000\n",
       "3     mary   24     DA   40000\n",
       "2     john   25     DS   35000\n",
       "4      ABC   27     DE   45000\n",
       "5      XYZ   27     AI   50000"
      ]
     },
     "execution_count": 86,
     "metadata": {},
     "output_type": "execute_result"
    }
   ],
   "source": [
    "data.sort_values('age' , inplace = True)\n",
    "data"
   ]
  },
  {
   "cell_type": "code",
   "execution_count": 95,
   "id": "be972f89-f284-47c2-bb89-7b9e0a4f3440",
   "metadata": {},
   "outputs": [],
   "source": [
    "# how to retrive the elements from the data\n",
    "# loc and iloc\n",
    "\n",
    "# loc - location \n",
    "\n",
    "# iloc - index location - we make use of index number of row index and column index"
   ]
  },
  {
   "cell_type": "code",
   "execution_count": 96,
   "id": "d4f5e8a0-1c94-4fcf-8da3-e30308c35cf3",
   "metadata": {},
   "outputs": [
    {
     "data": {
      "text/html": [
       "<div>\n",
       "<style scoped>\n",
       "    .dataframe tbody tr th:only-of-type {\n",
       "        vertical-align: middle;\n",
       "    }\n",
       "\n",
       "    .dataframe tbody tr th {\n",
       "        vertical-align: top;\n",
       "    }\n",
       "\n",
       "    .dataframe thead th {\n",
       "        text-align: right;\n",
       "    }\n",
       "</style>\n",
       "<table border=\"1\" class=\"dataframe\">\n",
       "  <thead>\n",
       "    <tr style=\"text-align: right;\">\n",
       "      <th></th>\n",
       "      <th>Name</th>\n",
       "    </tr>\n",
       "  </thead>\n",
       "  <tbody>\n",
       "    <tr>\n",
       "      <th>1</th>\n",
       "      <td>Lakshmi</td>\n",
       "    </tr>\n",
       "    <tr>\n",
       "      <th>2</th>\n",
       "      <td>mary</td>\n",
       "    </tr>\n",
       "    <tr>\n",
       "      <th>3</th>\n",
       "      <td>john</td>\n",
       "    </tr>\n",
       "    <tr>\n",
       "      <th>4</th>\n",
       "      <td>ABC</td>\n",
       "    </tr>\n",
       "    <tr>\n",
       "      <th>5</th>\n",
       "      <td>XYZ</td>\n",
       "    </tr>\n",
       "  </tbody>\n",
       "</table>\n",
       "</div>"
      ],
      "text/plain": [
       "      Name\n",
       "1  Lakshmi\n",
       "2     mary\n",
       "3     john\n",
       "4      ABC\n",
       "5      XYZ"
      ]
     },
     "execution_count": 96,
     "metadata": {},
     "output_type": "execute_result"
    }
   ],
   "source": [
    "data.loc[: ,['Name' ]]"
   ]
  },
  {
   "cell_type": "code",
   "execution_count": 97,
   "id": "f21a3238-ce53-4ae5-8a47-56a413ef9b6a",
   "metadata": {},
   "outputs": [
    {
     "data": {
      "text/html": [
       "<div>\n",
       "<style scoped>\n",
       "    .dataframe tbody tr th:only-of-type {\n",
       "        vertical-align: middle;\n",
       "    }\n",
       "\n",
       "    .dataframe tbody tr th {\n",
       "        vertical-align: top;\n",
       "    }\n",
       "\n",
       "    .dataframe thead th {\n",
       "        text-align: right;\n",
       "    }\n",
       "</style>\n",
       "<table border=\"1\" class=\"dataframe\">\n",
       "  <thead>\n",
       "    <tr style=\"text-align: right;\">\n",
       "      <th></th>\n",
       "      <th>Name</th>\n",
       "      <th>age</th>\n",
       "    </tr>\n",
       "  </thead>\n",
       "  <tbody>\n",
       "    <tr>\n",
       "      <th>1</th>\n",
       "      <td>Lakshmi</td>\n",
       "      <td>24</td>\n",
       "    </tr>\n",
       "    <tr>\n",
       "      <th>2</th>\n",
       "      <td>mary</td>\n",
       "      <td>24</td>\n",
       "    </tr>\n",
       "    <tr>\n",
       "      <th>3</th>\n",
       "      <td>john</td>\n",
       "      <td>25</td>\n",
       "    </tr>\n",
       "    <tr>\n",
       "      <th>4</th>\n",
       "      <td>ABC</td>\n",
       "      <td>27</td>\n",
       "    </tr>\n",
       "    <tr>\n",
       "      <th>5</th>\n",
       "      <td>XYZ</td>\n",
       "      <td>27</td>\n",
       "    </tr>\n",
       "  </tbody>\n",
       "</table>\n",
       "</div>"
      ],
      "text/plain": [
       "      Name  age\n",
       "1  Lakshmi   24\n",
       "2     mary   24\n",
       "3     john   25\n",
       "4      ABC   27\n",
       "5      XYZ   27"
      ]
     },
     "execution_count": 97,
     "metadata": {},
     "output_type": "execute_result"
    }
   ],
   "source": [
    "data.loc[: ,['Name' , 'age' ]]"
   ]
  },
  {
   "cell_type": "code",
   "execution_count": 98,
   "id": "e8d0138e-e7e9-42a4-bd12-d0d487916fc5",
   "metadata": {},
   "outputs": [],
   "source": [
    "data.index = [2,3,4,5,6]"
   ]
  },
  {
   "cell_type": "code",
   "execution_count": 99,
   "id": "fc4818c9-1a8a-4f41-a91d-20f2fa244f47",
   "metadata": {},
   "outputs": [
    {
     "data": {
      "text/html": [
       "<div>\n",
       "<style scoped>\n",
       "    .dataframe tbody tr th:only-of-type {\n",
       "        vertical-align: middle;\n",
       "    }\n",
       "\n",
       "    .dataframe tbody tr th {\n",
       "        vertical-align: top;\n",
       "    }\n",
       "\n",
       "    .dataframe thead th {\n",
       "        text-align: right;\n",
       "    }\n",
       "</style>\n",
       "<table border=\"1\" class=\"dataframe\">\n",
       "  <thead>\n",
       "    <tr style=\"text-align: right;\">\n",
       "      <th></th>\n",
       "      <th>Name</th>\n",
       "      <th>age</th>\n",
       "      <th>domain</th>\n",
       "      <th>salary</th>\n",
       "    </tr>\n",
       "  </thead>\n",
       "  <tbody>\n",
       "    <tr>\n",
       "      <th>1</th>\n",
       "      <td>Lakshmi</td>\n",
       "      <td>24</td>\n",
       "      <td>SME</td>\n",
       "      <td>30000</td>\n",
       "    </tr>\n",
       "    <tr>\n",
       "      <th>2</th>\n",
       "      <td>mary</td>\n",
       "      <td>24</td>\n",
       "      <td>DA</td>\n",
       "      <td>40000</td>\n",
       "    </tr>\n",
       "    <tr>\n",
       "      <th>3</th>\n",
       "      <td>john</td>\n",
       "      <td>25</td>\n",
       "      <td>DS</td>\n",
       "      <td>35000</td>\n",
       "    </tr>\n",
       "    <tr>\n",
       "      <th>4</th>\n",
       "      <td>ABC</td>\n",
       "      <td>27</td>\n",
       "      <td>DE</td>\n",
       "      <td>45000</td>\n",
       "    </tr>\n",
       "    <tr>\n",
       "      <th>5</th>\n",
       "      <td>XYZ</td>\n",
       "      <td>27</td>\n",
       "      <td>AI</td>\n",
       "      <td>50000</td>\n",
       "    </tr>\n",
       "  </tbody>\n",
       "</table>\n",
       "</div>"
      ],
      "text/plain": [
       "      Name  age domain  salary\n",
       "1  Lakshmi   24    SME   30000\n",
       "2     mary   24     DA   40000\n",
       "3     john   25     DS   35000\n",
       "4      ABC   27     DE   45000\n",
       "5      XYZ   27     AI   50000"
      ]
     },
     "execution_count": 99,
     "metadata": {},
     "output_type": "execute_result"
    }
   ],
   "source": [
    "data.index = [1,2,3,4,5]\n",
    "data"
   ]
  },
  {
   "cell_type": "code",
   "execution_count": 101,
   "id": "2eb1b2a1-bad9-4245-858d-1dc63a531070",
   "metadata": {},
   "outputs": [],
   "source": [
    "# fetch the 1st row and all the column"
   ]
  },
  {
   "cell_type": "code",
   "execution_count": 102,
   "id": "c48ff78b-05b3-475f-b8ed-22429ce5ae49",
   "metadata": {},
   "outputs": [
    {
     "data": {
      "text/html": [
       "<div>\n",
       "<style scoped>\n",
       "    .dataframe tbody tr th:only-of-type {\n",
       "        vertical-align: middle;\n",
       "    }\n",
       "\n",
       "    .dataframe tbody tr th {\n",
       "        vertical-align: top;\n",
       "    }\n",
       "\n",
       "    .dataframe thead th {\n",
       "        text-align: right;\n",
       "    }\n",
       "</style>\n",
       "<table border=\"1\" class=\"dataframe\">\n",
       "  <thead>\n",
       "    <tr style=\"text-align: right;\">\n",
       "      <th></th>\n",
       "      <th>Name</th>\n",
       "      <th>age</th>\n",
       "      <th>domain</th>\n",
       "      <th>salary</th>\n",
       "    </tr>\n",
       "  </thead>\n",
       "  <tbody>\n",
       "    <tr>\n",
       "      <th>1</th>\n",
       "      <td>Lakshmi</td>\n",
       "      <td>24</td>\n",
       "      <td>SME</td>\n",
       "      <td>30000</td>\n",
       "    </tr>\n",
       "  </tbody>\n",
       "</table>\n",
       "</div>"
      ],
      "text/plain": [
       "      Name  age domain  salary\n",
       "1  Lakshmi   24    SME   30000"
      ]
     },
     "execution_count": 102,
     "metadata": {},
     "output_type": "execute_result"
    }
   ],
   "source": [
    "data.loc[[1] ,:]"
   ]
  },
  {
   "cell_type": "code",
   "execution_count": 103,
   "id": "828306e6-dc91-4ad8-a9da-0fab1e7f9c91",
   "metadata": {},
   "outputs": [
    {
     "data": {
      "text/html": [
       "<div>\n",
       "<style scoped>\n",
       "    .dataframe tbody tr th:only-of-type {\n",
       "        vertical-align: middle;\n",
       "    }\n",
       "\n",
       "    .dataframe tbody tr th {\n",
       "        vertical-align: top;\n",
       "    }\n",
       "\n",
       "    .dataframe thead th {\n",
       "        text-align: right;\n",
       "    }\n",
       "</style>\n",
       "<table border=\"1\" class=\"dataframe\">\n",
       "  <thead>\n",
       "    <tr style=\"text-align: right;\">\n",
       "      <th></th>\n",
       "      <th>Name</th>\n",
       "      <th>age</th>\n",
       "      <th>domain</th>\n",
       "      <th>salary</th>\n",
       "    </tr>\n",
       "  </thead>\n",
       "  <tbody>\n",
       "    <tr>\n",
       "      <th>1</th>\n",
       "      <td>Lakshmi</td>\n",
       "      <td>24</td>\n",
       "      <td>SME</td>\n",
       "      <td>30000</td>\n",
       "    </tr>\n",
       "    <tr>\n",
       "      <th>2</th>\n",
       "      <td>mary</td>\n",
       "      <td>24</td>\n",
       "      <td>DA</td>\n",
       "      <td>40000</td>\n",
       "    </tr>\n",
       "  </tbody>\n",
       "</table>\n",
       "</div>"
      ],
      "text/plain": [
       "      Name  age domain  salary\n",
       "1  Lakshmi   24    SME   30000\n",
       "2     mary   24     DA   40000"
      ]
     },
     "execution_count": 103,
     "metadata": {},
     "output_type": "execute_result"
    }
   ],
   "source": [
    "data.loc[[1,2] ,:]"
   ]
  },
  {
   "cell_type": "code",
   "execution_count": 109,
   "id": "90213eaa-8682-4ef0-bd68-53859c6ac496",
   "metadata": {},
   "outputs": [
    {
     "data": {
      "text/html": [
       "<div>\n",
       "<style scoped>\n",
       "    .dataframe tbody tr th:only-of-type {\n",
       "        vertical-align: middle;\n",
       "    }\n",
       "\n",
       "    .dataframe tbody tr th {\n",
       "        vertical-align: top;\n",
       "    }\n",
       "\n",
       "    .dataframe thead th {\n",
       "        text-align: right;\n",
       "    }\n",
       "</style>\n",
       "<table border=\"1\" class=\"dataframe\">\n",
       "  <thead>\n",
       "    <tr style=\"text-align: right;\">\n",
       "      <th></th>\n",
       "      <th>Name</th>\n",
       "      <th>age</th>\n",
       "    </tr>\n",
       "  </thead>\n",
       "  <tbody>\n",
       "    <tr>\n",
       "      <th>1</th>\n",
       "      <td>Lakshmi</td>\n",
       "      <td>24</td>\n",
       "    </tr>\n",
       "    <tr>\n",
       "      <th>2</th>\n",
       "      <td>mary</td>\n",
       "      <td>24</td>\n",
       "    </tr>\n",
       "  </tbody>\n",
       "</table>\n",
       "</div>"
      ],
      "text/plain": [
       "      Name  age\n",
       "1  Lakshmi   24\n",
       "2     mary   24"
      ]
     },
     "execution_count": 109,
     "metadata": {},
     "output_type": "execute_result"
    }
   ],
   "source": [
    "data.loc[[1,2], ['Name' ,'age']]"
   ]
  },
  {
   "cell_type": "code",
   "execution_count": 110,
   "id": "41cf16e4-67b8-4337-9f1d-01ade8bfe27d",
   "metadata": {},
   "outputs": [
    {
     "data": {
      "text/html": [
       "<div>\n",
       "<style scoped>\n",
       "    .dataframe tbody tr th:only-of-type {\n",
       "        vertical-align: middle;\n",
       "    }\n",
       "\n",
       "    .dataframe tbody tr th {\n",
       "        vertical-align: top;\n",
       "    }\n",
       "\n",
       "    .dataframe thead th {\n",
       "        text-align: right;\n",
       "    }\n",
       "</style>\n",
       "<table border=\"1\" class=\"dataframe\">\n",
       "  <thead>\n",
       "    <tr style=\"text-align: right;\">\n",
       "      <th></th>\n",
       "      <th>salary</th>\n",
       "    </tr>\n",
       "  </thead>\n",
       "  <tbody>\n",
       "    <tr>\n",
       "      <th>3</th>\n",
       "      <td>35000</td>\n",
       "    </tr>\n",
       "    <tr>\n",
       "      <th>5</th>\n",
       "      <td>50000</td>\n",
       "    </tr>\n",
       "  </tbody>\n",
       "</table>\n",
       "</div>"
      ],
      "text/plain": [
       "   salary\n",
       "3   35000\n",
       "5   50000"
      ]
     },
     "execution_count": 110,
     "metadata": {},
     "output_type": "execute_result"
    }
   ],
   "source": [
    "data.loc[[3,5] ,['salary']]"
   ]
  },
  {
   "cell_type": "code",
   "execution_count": 111,
   "id": "e2836031-6f6d-4d06-b337-eec806a887e9",
   "metadata": {},
   "outputs": [
    {
     "data": {
      "text/html": [
       "<div>\n",
       "<style scoped>\n",
       "    .dataframe tbody tr th:only-of-type {\n",
       "        vertical-align: middle;\n",
       "    }\n",
       "\n",
       "    .dataframe tbody tr th {\n",
       "        vertical-align: top;\n",
       "    }\n",
       "\n",
       "    .dataframe thead th {\n",
       "        text-align: right;\n",
       "    }\n",
       "</style>\n",
       "<table border=\"1\" class=\"dataframe\">\n",
       "  <thead>\n",
       "    <tr style=\"text-align: right;\">\n",
       "      <th></th>\n",
       "      <th>salary</th>\n",
       "    </tr>\n",
       "  </thead>\n",
       "  <tbody>\n",
       "    <tr>\n",
       "      <th>1</th>\n",
       "      <td>30000</td>\n",
       "    </tr>\n",
       "    <tr>\n",
       "      <th>2</th>\n",
       "      <td>40000</td>\n",
       "    </tr>\n",
       "    <tr>\n",
       "      <th>3</th>\n",
       "      <td>35000</td>\n",
       "    </tr>\n",
       "    <tr>\n",
       "      <th>4</th>\n",
       "      <td>45000</td>\n",
       "    </tr>\n",
       "    <tr>\n",
       "      <th>5</th>\n",
       "      <td>50000</td>\n",
       "    </tr>\n",
       "  </tbody>\n",
       "</table>\n",
       "</div>"
      ],
      "text/plain": [
       "   salary\n",
       "1   30000\n",
       "2   40000\n",
       "3   35000\n",
       "4   45000\n",
       "5   50000"
      ]
     },
     "execution_count": 111,
     "metadata": {},
     "output_type": "execute_result"
    }
   ],
   "source": [
    "data.loc[: , ['salary']]"
   ]
  },
  {
   "cell_type": "code",
   "execution_count": 112,
   "id": "d061a876-1e6a-4984-a0ad-b9142157bcf4",
   "metadata": {},
   "outputs": [
    {
     "data": {
      "text/plain": [
       "1    Lakshmi\n",
       "2       mary\n",
       "3       john\n",
       "4        ABC\n",
       "5        XYZ\n",
       "Name: Name, dtype: object"
      ]
     },
     "execution_count": 112,
     "metadata": {},
     "output_type": "execute_result"
    }
   ],
   "source": [
    "data['Name']"
   ]
  },
  {
   "cell_type": "code",
   "execution_count": 113,
   "id": "0b41c89d-846a-4c36-9757-5f775decad38",
   "metadata": {},
   "outputs": [
    {
     "data": {
      "text/plain": [
       "1    Lakshmi\n",
       "2       mary\n",
       "3       john\n",
       "4        ABC\n",
       "5        XYZ\n",
       "Name: Name, dtype: object"
      ]
     },
     "execution_count": 113,
     "metadata": {},
     "output_type": "execute_result"
    }
   ],
   "source": [
    "data.Name"
   ]
  },
  {
   "cell_type": "code",
   "execution_count": 116,
   "id": "b7205a2e-5081-47cb-8f61-e52c53af95fe",
   "metadata": {},
   "outputs": [
    {
     "data": {
      "text/html": [
       "<div>\n",
       "<style scoped>\n",
       "    .dataframe tbody tr th:only-of-type {\n",
       "        vertical-align: middle;\n",
       "    }\n",
       "\n",
       "    .dataframe tbody tr th {\n",
       "        vertical-align: top;\n",
       "    }\n",
       "\n",
       "    .dataframe thead th {\n",
       "        text-align: right;\n",
       "    }\n",
       "</style>\n",
       "<table border=\"1\" class=\"dataframe\">\n",
       "  <thead>\n",
       "    <tr style=\"text-align: right;\">\n",
       "      <th></th>\n",
       "      <th>age</th>\n",
       "      <th>Name</th>\n",
       "    </tr>\n",
       "  </thead>\n",
       "  <tbody>\n",
       "    <tr>\n",
       "      <th>1</th>\n",
       "      <td>24</td>\n",
       "      <td>Lakshmi</td>\n",
       "    </tr>\n",
       "    <tr>\n",
       "      <th>2</th>\n",
       "      <td>24</td>\n",
       "      <td>mary</td>\n",
       "    </tr>\n",
       "    <tr>\n",
       "      <th>3</th>\n",
       "      <td>25</td>\n",
       "      <td>john</td>\n",
       "    </tr>\n",
       "    <tr>\n",
       "      <th>4</th>\n",
       "      <td>27</td>\n",
       "      <td>ABC</td>\n",
       "    </tr>\n",
       "    <tr>\n",
       "      <th>5</th>\n",
       "      <td>27</td>\n",
       "      <td>XYZ</td>\n",
       "    </tr>\n",
       "  </tbody>\n",
       "</table>\n",
       "</div>"
      ],
      "text/plain": [
       "   age     Name\n",
       "1   24  Lakshmi\n",
       "2   24     mary\n",
       "3   25     john\n",
       "4   27      ABC\n",
       "5   27      XYZ"
      ]
     },
     "execution_count": 116,
     "metadata": {},
     "output_type": "execute_result"
    }
   ],
   "source": [
    "data[['age' ,'Name']]"
   ]
  },
  {
   "cell_type": "code",
   "execution_count": 122,
   "id": "32b1e347-ec1a-4eb5-bf24-3a0ee76d98a4",
   "metadata": {},
   "outputs": [
    {
     "data": {
      "text/html": [
       "<div>\n",
       "<style scoped>\n",
       "    .dataframe tbody tr th:only-of-type {\n",
       "        vertical-align: middle;\n",
       "    }\n",
       "\n",
       "    .dataframe tbody tr th {\n",
       "        vertical-align: top;\n",
       "    }\n",
       "\n",
       "    .dataframe thead th {\n",
       "        text-align: right;\n",
       "    }\n",
       "</style>\n",
       "<table border=\"1\" class=\"dataframe\">\n",
       "  <thead>\n",
       "    <tr style=\"text-align: right;\">\n",
       "      <th></th>\n",
       "      <th>Name</th>\n",
       "      <th>age</th>\n",
       "      <th>domain</th>\n",
       "      <th>salary</th>\n",
       "    </tr>\n",
       "  </thead>\n",
       "  <tbody>\n",
       "    <tr>\n",
       "      <th>4</th>\n",
       "      <td>ABC</td>\n",
       "      <td>27</td>\n",
       "      <td>DE</td>\n",
       "      <td>45000</td>\n",
       "    </tr>\n",
       "    <tr>\n",
       "      <th>5</th>\n",
       "      <td>XYZ</td>\n",
       "      <td>27</td>\n",
       "      <td>AI</td>\n",
       "      <td>50000</td>\n",
       "    </tr>\n",
       "  </tbody>\n",
       "</table>\n",
       "</div>"
      ],
      "text/plain": [
       "  Name  age domain  salary\n",
       "4  ABC   27     DE   45000\n",
       "5  XYZ   27     AI   50000"
      ]
     },
     "execution_count": 122,
     "metadata": {},
     "output_type": "execute_result"
    }
   ],
   "source": [
    "data[data.age>25]"
   ]
  },
  {
   "cell_type": "code",
   "execution_count": 123,
   "id": "cb01ab1c-ae55-4f55-97ad-f30ff1e75460",
   "metadata": {},
   "outputs": [
    {
     "data": {
      "text/html": [
       "<div>\n",
       "<style scoped>\n",
       "    .dataframe tbody tr th:only-of-type {\n",
       "        vertical-align: middle;\n",
       "    }\n",
       "\n",
       "    .dataframe tbody tr th {\n",
       "        vertical-align: top;\n",
       "    }\n",
       "\n",
       "    .dataframe thead th {\n",
       "        text-align: right;\n",
       "    }\n",
       "</style>\n",
       "<table border=\"1\" class=\"dataframe\">\n",
       "  <thead>\n",
       "    <tr style=\"text-align: right;\">\n",
       "      <th></th>\n",
       "      <th>Name</th>\n",
       "      <th>age</th>\n",
       "      <th>domain</th>\n",
       "      <th>salary</th>\n",
       "    </tr>\n",
       "  </thead>\n",
       "  <tbody>\n",
       "    <tr>\n",
       "      <th>4</th>\n",
       "      <td>ABC</td>\n",
       "      <td>27</td>\n",
       "      <td>DE</td>\n",
       "      <td>45000</td>\n",
       "    </tr>\n",
       "    <tr>\n",
       "      <th>5</th>\n",
       "      <td>XYZ</td>\n",
       "      <td>27</td>\n",
       "      <td>AI</td>\n",
       "      <td>50000</td>\n",
       "    </tr>\n",
       "  </tbody>\n",
       "</table>\n",
       "</div>"
      ],
      "text/plain": [
       "  Name  age domain  salary\n",
       "4  ABC   27     DE   45000\n",
       "5  XYZ   27     AI   50000"
      ]
     },
     "execution_count": 123,
     "metadata": {},
     "output_type": "execute_result"
    }
   ],
   "source": [
    "data.loc[data.age>25]"
   ]
  },
  {
   "cell_type": "code",
   "execution_count": 125,
   "id": "a249a611-9ca5-4814-83ba-e49e0c376f7c",
   "metadata": {},
   "outputs": [
    {
     "data": {
      "text/html": [
       "<div>\n",
       "<style scoped>\n",
       "    .dataframe tbody tr th:only-of-type {\n",
       "        vertical-align: middle;\n",
       "    }\n",
       "\n",
       "    .dataframe tbody tr th {\n",
       "        vertical-align: top;\n",
       "    }\n",
       "\n",
       "    .dataframe thead th {\n",
       "        text-align: right;\n",
       "    }\n",
       "</style>\n",
       "<table border=\"1\" class=\"dataframe\">\n",
       "  <thead>\n",
       "    <tr style=\"text-align: right;\">\n",
       "      <th></th>\n",
       "      <th>Name</th>\n",
       "      <th>age</th>\n",
       "      <th>domain</th>\n",
       "      <th>salary</th>\n",
       "    </tr>\n",
       "  </thead>\n",
       "  <tbody>\n",
       "    <tr>\n",
       "      <th>2</th>\n",
       "      <td>mary</td>\n",
       "      <td>24</td>\n",
       "      <td>DA</td>\n",
       "      <td>40000</td>\n",
       "    </tr>\n",
       "  </tbody>\n",
       "</table>\n",
       "</div>"
      ],
      "text/plain": [
       "   Name  age domain  salary\n",
       "2  mary   24     DA   40000"
      ]
     },
     "execution_count": 125,
     "metadata": {},
     "output_type": "execute_result"
    }
   ],
   "source": [
    "data.loc[data.domain == 'DA']"
   ]
  },
  {
   "cell_type": "code",
   "execution_count": 129,
   "id": "b6c15251-d41a-473f-849d-68f2cd93ee38",
   "metadata": {},
   "outputs": [
    {
     "data": {
      "text/html": [
       "<div>\n",
       "<style scoped>\n",
       "    .dataframe tbody tr th:only-of-type {\n",
       "        vertical-align: middle;\n",
       "    }\n",
       "\n",
       "    .dataframe tbody tr th {\n",
       "        vertical-align: top;\n",
       "    }\n",
       "\n",
       "    .dataframe thead th {\n",
       "        text-align: right;\n",
       "    }\n",
       "</style>\n",
       "<table border=\"1\" class=\"dataframe\">\n",
       "  <thead>\n",
       "    <tr style=\"text-align: right;\">\n",
       "      <th></th>\n",
       "      <th>Name</th>\n",
       "      <th>age</th>\n",
       "      <th>domain</th>\n",
       "      <th>salary</th>\n",
       "    </tr>\n",
       "  </thead>\n",
       "  <tbody>\n",
       "  </tbody>\n",
       "</table>\n",
       "</div>"
      ],
      "text/plain": [
       "Empty DataFrame\n",
       "Columns: [Name, age, domain, salary]\n",
       "Index: []"
      ]
     },
     "execution_count": 129,
     "metadata": {},
     "output_type": "execute_result"
    }
   ],
   "source": [
    "data.loc[(data.domain == 'DA') & (data.age>25)]"
   ]
  },
  {
   "cell_type": "code",
   "execution_count": 131,
   "id": "e4fbab3a-f412-415d-9e14-a07555ac9e66",
   "metadata": {},
   "outputs": [
    {
     "data": {
      "text/html": [
       "<div>\n",
       "<style scoped>\n",
       "    .dataframe tbody tr th:only-of-type {\n",
       "        vertical-align: middle;\n",
       "    }\n",
       "\n",
       "    .dataframe tbody tr th {\n",
       "        vertical-align: top;\n",
       "    }\n",
       "\n",
       "    .dataframe thead th {\n",
       "        text-align: right;\n",
       "    }\n",
       "</style>\n",
       "<table border=\"1\" class=\"dataframe\">\n",
       "  <thead>\n",
       "    <tr style=\"text-align: right;\">\n",
       "      <th></th>\n",
       "      <th>Name</th>\n",
       "      <th>age</th>\n",
       "      <th>domain</th>\n",
       "      <th>salary</th>\n",
       "    </tr>\n",
       "  </thead>\n",
       "  <tbody>\n",
       "    <tr>\n",
       "      <th>2</th>\n",
       "      <td>mary</td>\n",
       "      <td>24</td>\n",
       "      <td>DA</td>\n",
       "      <td>40000</td>\n",
       "    </tr>\n",
       "    <tr>\n",
       "      <th>4</th>\n",
       "      <td>ABC</td>\n",
       "      <td>27</td>\n",
       "      <td>DE</td>\n",
       "      <td>45000</td>\n",
       "    </tr>\n",
       "    <tr>\n",
       "      <th>5</th>\n",
       "      <td>XYZ</td>\n",
       "      <td>27</td>\n",
       "      <td>AI</td>\n",
       "      <td>50000</td>\n",
       "    </tr>\n",
       "  </tbody>\n",
       "</table>\n",
       "</div>"
      ],
      "text/plain": [
       "   Name  age domain  salary\n",
       "2  mary   24     DA   40000\n",
       "4   ABC   27     DE   45000\n",
       "5   XYZ   27     AI   50000"
      ]
     },
     "execution_count": 131,
     "metadata": {},
     "output_type": "execute_result"
    }
   ],
   "source": [
    "data.loc[(data.domain == 'DA') | (data.age>25)]"
   ]
  },
  {
   "cell_type": "code",
   "execution_count": 132,
   "id": "ab5876c0-7cae-437d-84fc-8eede8071df4",
   "metadata": {},
   "outputs": [
    {
     "data": {
      "text/html": [
       "<div>\n",
       "<style scoped>\n",
       "    .dataframe tbody tr th:only-of-type {\n",
       "        vertical-align: middle;\n",
       "    }\n",
       "\n",
       "    .dataframe tbody tr th {\n",
       "        vertical-align: top;\n",
       "    }\n",
       "\n",
       "    .dataframe thead th {\n",
       "        text-align: right;\n",
       "    }\n",
       "</style>\n",
       "<table border=\"1\" class=\"dataframe\">\n",
       "  <thead>\n",
       "    <tr style=\"text-align: right;\">\n",
       "      <th></th>\n",
       "      <th>Name</th>\n",
       "      <th>age</th>\n",
       "      <th>domain</th>\n",
       "      <th>salary</th>\n",
       "    </tr>\n",
       "  </thead>\n",
       "  <tbody>\n",
       "    <tr>\n",
       "      <th>1</th>\n",
       "      <td>Lakshmi</td>\n",
       "      <td>24</td>\n",
       "      <td>SME</td>\n",
       "      <td>30000</td>\n",
       "    </tr>\n",
       "    <tr>\n",
       "      <th>2</th>\n",
       "      <td>mary</td>\n",
       "      <td>24</td>\n",
       "      <td>DA</td>\n",
       "      <td>40000</td>\n",
       "    </tr>\n",
       "  </tbody>\n",
       "</table>\n",
       "</div>"
      ],
      "text/plain": [
       "      Name  age domain  salary\n",
       "1  Lakshmi   24    SME   30000\n",
       "2     mary   24     DA   40000"
      ]
     },
     "execution_count": 132,
     "metadata": {},
     "output_type": "execute_result"
    }
   ],
   "source": [
    "data.loc[data.age.between(20,24)]"
   ]
  },
  {
   "cell_type": "code",
   "execution_count": 136,
   "id": "d73d2e38-8477-41d7-98ed-e7f9176d9867",
   "metadata": {},
   "outputs": [
    {
     "data": {
      "text/html": [
       "<div>\n",
       "<style scoped>\n",
       "    .dataframe tbody tr th:only-of-type {\n",
       "        vertical-align: middle;\n",
       "    }\n",
       "\n",
       "    .dataframe tbody tr th {\n",
       "        vertical-align: top;\n",
       "    }\n",
       "\n",
       "    .dataframe thead th {\n",
       "        text-align: right;\n",
       "    }\n",
       "</style>\n",
       "<table border=\"1\" class=\"dataframe\">\n",
       "  <thead>\n",
       "    <tr style=\"text-align: right;\">\n",
       "      <th></th>\n",
       "      <th>Name</th>\n",
       "      <th>age</th>\n",
       "      <th>domain</th>\n",
       "      <th>salary</th>\n",
       "    </tr>\n",
       "  </thead>\n",
       "  <tbody>\n",
       "    <tr>\n",
       "      <th>1</th>\n",
       "      <td>Lakshmi</td>\n",
       "      <td>24</td>\n",
       "      <td>SME</td>\n",
       "      <td>30000</td>\n",
       "    </tr>\n",
       "    <tr>\n",
       "      <th>2</th>\n",
       "      <td>mary</td>\n",
       "      <td>24</td>\n",
       "      <td>DA</td>\n",
       "      <td>40000</td>\n",
       "    </tr>\n",
       "    <tr>\n",
       "      <th>3</th>\n",
       "      <td>john</td>\n",
       "      <td>25</td>\n",
       "      <td>DS</td>\n",
       "      <td>35000</td>\n",
       "    </tr>\n",
       "  </tbody>\n",
       "</table>\n",
       "</div>"
      ],
      "text/plain": [
       "      Name  age domain  salary\n",
       "1  Lakshmi   24    SME   30000\n",
       "2     mary   24     DA   40000\n",
       "3     john   25     DS   35000"
      ]
     },
     "execution_count": 136,
     "metadata": {},
     "output_type": "execute_result"
    }
   ],
   "source": [
    "data.loc[data.age != 27]"
   ]
  },
  {
   "cell_type": "code",
   "execution_count": 139,
   "id": "b600424b-383f-447a-803e-3e6878b245f8",
   "metadata": {},
   "outputs": [
    {
     "data": {
      "text/html": [
       "<div>\n",
       "<style scoped>\n",
       "    .dataframe tbody tr th:only-of-type {\n",
       "        vertical-align: middle;\n",
       "    }\n",
       "\n",
       "    .dataframe tbody tr th {\n",
       "        vertical-align: top;\n",
       "    }\n",
       "\n",
       "    .dataframe thead th {\n",
       "        text-align: right;\n",
       "    }\n",
       "</style>\n",
       "<table border=\"1\" class=\"dataframe\">\n",
       "  <thead>\n",
       "    <tr style=\"text-align: right;\">\n",
       "      <th></th>\n",
       "      <th>Name</th>\n",
       "      <th>age</th>\n",
       "      <th>domain</th>\n",
       "      <th>salary</th>\n",
       "    </tr>\n",
       "  </thead>\n",
       "  <tbody>\n",
       "  </tbody>\n",
       "</table>\n",
       "</div>"
      ],
      "text/plain": [
       "Empty DataFrame\n",
       "Columns: [Name, age, domain, salary]\n",
       "Index: []"
      ]
     },
     "execution_count": 139,
     "metadata": {},
     "output_type": "execute_result"
    }
   ],
   "source": [
    "data.loc[data.age.isnull() == True]"
   ]
  },
  {
   "cell_type": "code",
   "execution_count": 140,
   "id": "645fbc7d-28f3-4b4a-8baa-187ed63d8961",
   "metadata": {},
   "outputs": [
    {
     "data": {
      "text/plain": [
       "0"
      ]
     },
     "execution_count": 140,
     "metadata": {},
     "output_type": "execute_result"
    }
   ],
   "source": [
    "#data.age.isnull().sum()"
   ]
  },
  {
   "cell_type": "code",
   "execution_count": 141,
   "id": "11f792c5-aaa8-484b-8daa-ddc0f4368d72",
   "metadata": {},
   "outputs": [
    {
     "data": {
      "text/html": [
       "<div>\n",
       "<style scoped>\n",
       "    .dataframe tbody tr th:only-of-type {\n",
       "        vertical-align: middle;\n",
       "    }\n",
       "\n",
       "    .dataframe tbody tr th {\n",
       "        vertical-align: top;\n",
       "    }\n",
       "\n",
       "    .dataframe thead th {\n",
       "        text-align: right;\n",
       "    }\n",
       "</style>\n",
       "<table border=\"1\" class=\"dataframe\">\n",
       "  <thead>\n",
       "    <tr style=\"text-align: right;\">\n",
       "      <th></th>\n",
       "      <th>Name</th>\n",
       "      <th>age</th>\n",
       "    </tr>\n",
       "  </thead>\n",
       "  <tbody>\n",
       "    <tr>\n",
       "      <th>1</th>\n",
       "      <td>Lakshmi</td>\n",
       "      <td>24</td>\n",
       "    </tr>\n",
       "    <tr>\n",
       "      <th>2</th>\n",
       "      <td>mary</td>\n",
       "      <td>24</td>\n",
       "    </tr>\n",
       "    <tr>\n",
       "      <th>3</th>\n",
       "      <td>john</td>\n",
       "      <td>25</td>\n",
       "    </tr>\n",
       "    <tr>\n",
       "      <th>4</th>\n",
       "      <td>ABC</td>\n",
       "      <td>27</td>\n",
       "    </tr>\n",
       "    <tr>\n",
       "      <th>5</th>\n",
       "      <td>XYZ</td>\n",
       "      <td>27</td>\n",
       "    </tr>\n",
       "  </tbody>\n",
       "</table>\n",
       "</div>"
      ],
      "text/plain": [
       "      Name  age\n",
       "1  Lakshmi   24\n",
       "2     mary   24\n",
       "3     john   25\n",
       "4      ABC   27\n",
       "5      XYZ   27"
      ]
     },
     "execution_count": 141,
     "metadata": {},
     "output_type": "execute_result"
    }
   ],
   "source": [
    "# iloc\n",
    "data.iloc[:,[0,1]]"
   ]
  },
  {
   "cell_type": "code",
   "execution_count": 142,
   "id": "459744c9-5b42-4860-8939-8c0c499960a2",
   "metadata": {},
   "outputs": [
    {
     "data": {
      "text/html": [
       "<div>\n",
       "<style scoped>\n",
       "    .dataframe tbody tr th:only-of-type {\n",
       "        vertical-align: middle;\n",
       "    }\n",
       "\n",
       "    .dataframe tbody tr th {\n",
       "        vertical-align: top;\n",
       "    }\n",
       "\n",
       "    .dataframe thead th {\n",
       "        text-align: right;\n",
       "    }\n",
       "</style>\n",
       "<table border=\"1\" class=\"dataframe\">\n",
       "  <thead>\n",
       "    <tr style=\"text-align: right;\">\n",
       "      <th></th>\n",
       "      <th>Name</th>\n",
       "      <th>age</th>\n",
       "    </tr>\n",
       "  </thead>\n",
       "  <tbody>\n",
       "    <tr>\n",
       "      <th>1</th>\n",
       "      <td>Lakshmi</td>\n",
       "      <td>24</td>\n",
       "    </tr>\n",
       "    <tr>\n",
       "      <th>2</th>\n",
       "      <td>mary</td>\n",
       "      <td>24</td>\n",
       "    </tr>\n",
       "    <tr>\n",
       "      <th>3</th>\n",
       "      <td>john</td>\n",
       "      <td>25</td>\n",
       "    </tr>\n",
       "    <tr>\n",
       "      <th>4</th>\n",
       "      <td>ABC</td>\n",
       "      <td>27</td>\n",
       "    </tr>\n",
       "    <tr>\n",
       "      <th>5</th>\n",
       "      <td>XYZ</td>\n",
       "      <td>27</td>\n",
       "    </tr>\n",
       "  </tbody>\n",
       "</table>\n",
       "</div>"
      ],
      "text/plain": [
       "      Name  age\n",
       "1  Lakshmi   24\n",
       "2     mary   24\n",
       "3     john   25\n",
       "4      ABC   27\n",
       "5      XYZ   27"
      ]
     },
     "execution_count": 142,
     "metadata": {},
     "output_type": "execute_result"
    }
   ],
   "source": [
    "data.iloc[: , 0:2]"
   ]
  },
  {
   "cell_type": "code",
   "execution_count": 143,
   "id": "4734c53b-e499-450c-b97f-5f92068be793",
   "metadata": {},
   "outputs": [
    {
     "data": {
      "text/html": [
       "<div>\n",
       "<style scoped>\n",
       "    .dataframe tbody tr th:only-of-type {\n",
       "        vertical-align: middle;\n",
       "    }\n",
       "\n",
       "    .dataframe tbody tr th {\n",
       "        vertical-align: top;\n",
       "    }\n",
       "\n",
       "    .dataframe thead th {\n",
       "        text-align: right;\n",
       "    }\n",
       "</style>\n",
       "<table border=\"1\" class=\"dataframe\">\n",
       "  <thead>\n",
       "    <tr style=\"text-align: right;\">\n",
       "      <th></th>\n",
       "      <th>domain</th>\n",
       "      <th>salary</th>\n",
       "    </tr>\n",
       "  </thead>\n",
       "  <tbody>\n",
       "    <tr>\n",
       "      <th>1</th>\n",
       "      <td>SME</td>\n",
       "      <td>30000</td>\n",
       "    </tr>\n",
       "    <tr>\n",
       "      <th>2</th>\n",
       "      <td>DA</td>\n",
       "      <td>40000</td>\n",
       "    </tr>\n",
       "    <tr>\n",
       "      <th>3</th>\n",
       "      <td>DS</td>\n",
       "      <td>35000</td>\n",
       "    </tr>\n",
       "    <tr>\n",
       "      <th>4</th>\n",
       "      <td>DE</td>\n",
       "      <td>45000</td>\n",
       "    </tr>\n",
       "    <tr>\n",
       "      <th>5</th>\n",
       "      <td>AI</td>\n",
       "      <td>50000</td>\n",
       "    </tr>\n",
       "  </tbody>\n",
       "</table>\n",
       "</div>"
      ],
      "text/plain": [
       "  domain  salary\n",
       "1    SME   30000\n",
       "2     DA   40000\n",
       "3     DS   35000\n",
       "4     DE   45000\n",
       "5     AI   50000"
      ]
     },
     "execution_count": 143,
     "metadata": {},
     "output_type": "execute_result"
    }
   ],
   "source": [
    "data.iloc[: , 2:4]"
   ]
  },
  {
   "cell_type": "code",
   "execution_count": 145,
   "id": "b69c3382-ba90-4191-8bcb-946acdf97b46",
   "metadata": {},
   "outputs": [
    {
     "data": {
      "text/html": [
       "<div>\n",
       "<style scoped>\n",
       "    .dataframe tbody tr th:only-of-type {\n",
       "        vertical-align: middle;\n",
       "    }\n",
       "\n",
       "    .dataframe tbody tr th {\n",
       "        vertical-align: top;\n",
       "    }\n",
       "\n",
       "    .dataframe thead th {\n",
       "        text-align: right;\n",
       "    }\n",
       "</style>\n",
       "<table border=\"1\" class=\"dataframe\">\n",
       "  <thead>\n",
       "    <tr style=\"text-align: right;\">\n",
       "      <th></th>\n",
       "      <th>Name</th>\n",
       "      <th>salary</th>\n",
       "      <th>age</th>\n",
       "    </tr>\n",
       "  </thead>\n",
       "  <tbody>\n",
       "    <tr>\n",
       "      <th>1</th>\n",
       "      <td>Lakshmi</td>\n",
       "      <td>30000</td>\n",
       "      <td>24</td>\n",
       "    </tr>\n",
       "    <tr>\n",
       "      <th>2</th>\n",
       "      <td>mary</td>\n",
       "      <td>40000</td>\n",
       "      <td>24</td>\n",
       "    </tr>\n",
       "    <tr>\n",
       "      <th>3</th>\n",
       "      <td>john</td>\n",
       "      <td>35000</td>\n",
       "      <td>25</td>\n",
       "    </tr>\n",
       "    <tr>\n",
       "      <th>4</th>\n",
       "      <td>ABC</td>\n",
       "      <td>45000</td>\n",
       "      <td>27</td>\n",
       "    </tr>\n",
       "    <tr>\n",
       "      <th>5</th>\n",
       "      <td>XYZ</td>\n",
       "      <td>50000</td>\n",
       "      <td>27</td>\n",
       "    </tr>\n",
       "  </tbody>\n",
       "</table>\n",
       "</div>"
      ],
      "text/plain": [
       "      Name  salary  age\n",
       "1  Lakshmi   30000   24\n",
       "2     mary   40000   24\n",
       "3     john   35000   25\n",
       "4      ABC   45000   27\n",
       "5      XYZ   50000   27"
      ]
     },
     "execution_count": 145,
     "metadata": {},
     "output_type": "execute_result"
    }
   ],
   "source": [
    "data.iloc[: , [0,3, 1]]"
   ]
  },
  {
   "cell_type": "code",
   "execution_count": 146,
   "id": "b5a94e01-3a97-4f35-942e-b1e0f338a2db",
   "metadata": {},
   "outputs": [
    {
     "data": {
      "text/html": [
       "<div>\n",
       "<style scoped>\n",
       "    .dataframe tbody tr th:only-of-type {\n",
       "        vertical-align: middle;\n",
       "    }\n",
       "\n",
       "    .dataframe tbody tr th {\n",
       "        vertical-align: top;\n",
       "    }\n",
       "\n",
       "    .dataframe thead th {\n",
       "        text-align: right;\n",
       "    }\n",
       "</style>\n",
       "<table border=\"1\" class=\"dataframe\">\n",
       "  <thead>\n",
       "    <tr style=\"text-align: right;\">\n",
       "      <th></th>\n",
       "      <th>Name</th>\n",
       "      <th>age</th>\n",
       "      <th>domain</th>\n",
       "      <th>salary</th>\n",
       "    </tr>\n",
       "  </thead>\n",
       "  <tbody>\n",
       "    <tr>\n",
       "      <th>2</th>\n",
       "      <td>mary</td>\n",
       "      <td>24</td>\n",
       "      <td>DA</td>\n",
       "      <td>40000</td>\n",
       "    </tr>\n",
       "    <tr>\n",
       "      <th>3</th>\n",
       "      <td>john</td>\n",
       "      <td>25</td>\n",
       "      <td>DS</td>\n",
       "      <td>35000</td>\n",
       "    </tr>\n",
       "  </tbody>\n",
       "</table>\n",
       "</div>"
      ],
      "text/plain": [
       "   Name  age domain  salary\n",
       "2  mary   24     DA   40000\n",
       "3  john   25     DS   35000"
      ]
     },
     "execution_count": 146,
     "metadata": {},
     "output_type": "execute_result"
    }
   ],
   "source": [
    "data.iloc[[1,2] , :]"
   ]
  },
  {
   "cell_type": "code",
   "execution_count": 147,
   "id": "336ae9bb-296a-4e86-8abf-311ddf6c3b03",
   "metadata": {},
   "outputs": [
    {
     "data": {
      "text/html": [
       "<div>\n",
       "<style scoped>\n",
       "    .dataframe tbody tr th:only-of-type {\n",
       "        vertical-align: middle;\n",
       "    }\n",
       "\n",
       "    .dataframe tbody tr th {\n",
       "        vertical-align: top;\n",
       "    }\n",
       "\n",
       "    .dataframe thead th {\n",
       "        text-align: right;\n",
       "    }\n",
       "</style>\n",
       "<table border=\"1\" class=\"dataframe\">\n",
       "  <thead>\n",
       "    <tr style=\"text-align: right;\">\n",
       "      <th></th>\n",
       "      <th>age</th>\n",
       "      <th>domain</th>\n",
       "    </tr>\n",
       "  </thead>\n",
       "  <tbody>\n",
       "    <tr>\n",
       "      <th>2</th>\n",
       "      <td>24</td>\n",
       "      <td>DA</td>\n",
       "    </tr>\n",
       "    <tr>\n",
       "      <th>3</th>\n",
       "      <td>25</td>\n",
       "      <td>DS</td>\n",
       "    </tr>\n",
       "  </tbody>\n",
       "</table>\n",
       "</div>"
      ],
      "text/plain": [
       "   age domain\n",
       "2   24     DA\n",
       "3   25     DS"
      ]
     },
     "execution_count": 147,
     "metadata": {},
     "output_type": "execute_result"
    }
   ],
   "source": [
    "data.iloc[[1,2] , [1,2]]"
   ]
  },
  {
   "cell_type": "code",
   "execution_count": 150,
   "id": "655b2c3c-8314-425c-bd1c-bd94a2fc3116",
   "metadata": {},
   "outputs": [],
   "source": [
    "data1 = data.copy()"
   ]
  },
  {
   "cell_type": "code",
   "execution_count": 151,
   "id": "1b6cf135-b766-49af-b08b-1436a862bb58",
   "metadata": {},
   "outputs": [
    {
     "data": {
      "text/html": [
       "<div>\n",
       "<style scoped>\n",
       "    .dataframe tbody tr th:only-of-type {\n",
       "        vertical-align: middle;\n",
       "    }\n",
       "\n",
       "    .dataframe tbody tr th {\n",
       "        vertical-align: top;\n",
       "    }\n",
       "\n",
       "    .dataframe thead th {\n",
       "        text-align: right;\n",
       "    }\n",
       "</style>\n",
       "<table border=\"1\" class=\"dataframe\">\n",
       "  <thead>\n",
       "    <tr style=\"text-align: right;\">\n",
       "      <th></th>\n",
       "      <th>Name</th>\n",
       "      <th>age</th>\n",
       "      <th>domain</th>\n",
       "      <th>salary</th>\n",
       "    </tr>\n",
       "  </thead>\n",
       "  <tbody>\n",
       "    <tr>\n",
       "      <th>1</th>\n",
       "      <td>Lakshmi</td>\n",
       "      <td>24</td>\n",
       "      <td>SME</td>\n",
       "      <td>30000</td>\n",
       "    </tr>\n",
       "    <tr>\n",
       "      <th>2</th>\n",
       "      <td>mary</td>\n",
       "      <td>24</td>\n",
       "      <td>DA</td>\n",
       "      <td>40000</td>\n",
       "    </tr>\n",
       "    <tr>\n",
       "      <th>3</th>\n",
       "      <td>john</td>\n",
       "      <td>25</td>\n",
       "      <td>DS</td>\n",
       "      <td>35000</td>\n",
       "    </tr>\n",
       "    <tr>\n",
       "      <th>4</th>\n",
       "      <td>ABC</td>\n",
       "      <td>27</td>\n",
       "      <td>DE</td>\n",
       "      <td>45000</td>\n",
       "    </tr>\n",
       "    <tr>\n",
       "      <th>5</th>\n",
       "      <td>XYZ</td>\n",
       "      <td>27</td>\n",
       "      <td>AI</td>\n",
       "      <td>50000</td>\n",
       "    </tr>\n",
       "  </tbody>\n",
       "</table>\n",
       "</div>"
      ],
      "text/plain": [
       "      Name  age domain  salary\n",
       "1  Lakshmi   24    SME   30000\n",
       "2     mary   24     DA   40000\n",
       "3     john   25     DS   35000\n",
       "4      ABC   27     DE   45000\n",
       "5      XYZ   27     AI   50000"
      ]
     },
     "execution_count": 151,
     "metadata": {},
     "output_type": "execute_result"
    }
   ],
   "source": [
    "data1"
   ]
  },
  {
   "cell_type": "code",
   "execution_count": 165,
   "id": "495a767a-ea5e-46b5-ad26-f919e3c8b5f4",
   "metadata": {},
   "outputs": [
    {
     "ename": "SyntaxError",
     "evalue": "incomplete input (284076452.py, line 3)",
     "output_type": "error",
     "traceback": [
      "\u001b[1;36m  Cell \u001b[1;32mIn[165], line 3\u001b[1;36m\u001b[0m\n\u001b[1;33m    pd.DataFrame((l1 )\u001b[0m\n\u001b[1;37m                      ^\u001b[0m\n\u001b[1;31mSyntaxError\u001b[0m\u001b[1;31m:\u001b[0m incomplete input\n"
     ]
    }
   ],
   "source": [
    "l1 = [1,3,5]\n",
    "l2 = [2,3,4]\n",
    "pd.DataFrame((l1 )"
   ]
  },
  {
   "cell_type": "code",
   "execution_count": null,
   "id": "c5a6b94d-9a50-4d16-9f65-93deed586f46",
   "metadata": {},
   "outputs": [],
   "source": []
  }
 ],
 "metadata": {
  "kernelspec": {
   "display_name": "Python 3 (ipykernel)",
   "language": "python",
   "name": "python3"
  },
  "language_info": {
   "codemirror_mode": {
    "name": "ipython",
    "version": 3
   },
   "file_extension": ".py",
   "mimetype": "text/x-python",
   "name": "python",
   "nbconvert_exporter": "python",
   "pygments_lexer": "ipython3",
   "version": "3.12.4"
  }
 },
 "nbformat": 4,
 "nbformat_minor": 5
}
